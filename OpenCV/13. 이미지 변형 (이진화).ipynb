{
 "cells": [
  {
   "cell_type": "markdown",
   "id": "0088f62a",
   "metadata": {},
   "source": [
    "# 13. 이미지 변형 (이진화)"
   ]
  },
  {
   "cell_type": "markdown",
   "id": "aba04912",
   "metadata": {},
   "source": [
    "## Threshold"
   ]
  },
  {
   "cell_type": "code",
   "execution_count": 3,
   "id": "9c4f5ea9",
   "metadata": {},
   "outputs": [],
   "source": [
    "import cv2\n",
    "img=cv2.imread('book.jpg',cv2.IMREAD_GRAYSCALE)\n",
    "\n",
    "ret,binary=cv2.threshold(img, 127, 255, cv2.THRESH_BINARY)\n",
    "\n",
    "cv2.imshow('img',img)\n",
    "cv2.imshow('binary',binary)\n",
    "cv2.waitKey(0)\n",
    "cv2.destroyAllWindows()"
   ]
  },
  {
   "cell_type": "markdown",
   "id": "8baadeac",
   "metadata": {},
   "source": [
    "### Trackbar (값 변화에 따른 변형 확인)"
   ]
  },
  {
   "cell_type": "code",
   "execution_count": 9,
   "id": "39181dac",
   "metadata": {},
   "outputs": [],
   "source": [
    "import cv2\n",
    "\n",
    "def empty(pos):\n",
    "    #print(pos)\n",
    "    pass\n",
    "\n",
    "img=cv2.imread('book.jpg',cv2.IMREAD_GRAYSCALE)\n",
    "\n",
    "name='Trackbar'\n",
    "cv2.namedWindow(name)\n",
    "\n",
    "cv2.createTrackbar('threshold',name,127,255,empty)\n",
    "# bar의 이름, 창의 이름, 초깃값, 최대값, 이벤트 처리\n",
    "\n",
    "while True:\n",
    "    thresh=cv2.getTrackbarPos('threshold',name)\n",
    "    # bar의 이름, 창의 이름\n",
    "    ret,binary=cv2.threshold(img, thresh, 255, cv2.THRESH_BINARY)\n",
    "    \n",
    "    if not ret:\n",
    "        break\n",
    "    \n",
    "    cv2.imshow(name,binary)\n",
    "    if cv2.waitKey(1)==ord('q'):\n",
    "        break\n",
    "cv2.destroyAllWindows()"
   ]
  },
  {
   "cell_type": "markdown",
   "id": "ea85a733",
   "metadata": {},
   "source": [
    "### 그림판에서 제작한 이미지로 확인"
   ]
  },
  {
   "cell_type": "code",
   "execution_count": 10,
   "id": "a10f3979",
   "metadata": {},
   "outputs": [],
   "source": [
    "import cv2\n",
    "\n",
    "def empty(pos):\n",
    "    #print(pos)\n",
    "    pass\n",
    "\n",
    "img=cv2.imread('threshold.png',cv2.IMREAD_GRAYSCALE)\n",
    "\n",
    "name='Trackbar'\n",
    "cv2.namedWindow(name)\n",
    "\n",
    "cv2.createTrackbar('threshold',name,127,255,empty)\n",
    "# bar의 이름, 창의 이름, 초깃값, 최대값, 이벤트 처리\n",
    "\n",
    "while True:\n",
    "    thresh=cv2.getTrackbarPos('threshold',name)\n",
    "    # bar의 이름, 창의 이름\n",
    "    ret,binary=cv2.threshold(img, thresh, 255, cv2.THRESH_BINARY)\n",
    "    \n",
    "    if not ret:\n",
    "        break\n",
    "    cv2.imshow('img',img)\n",
    "    cv2.imshow(name,binary)\n",
    "    if cv2.waitKey(1)==ord('q'):\n",
    "        break\n",
    "cv2.destroyAllWindows()"
   ]
  },
  {
   "cell_type": "code",
   "execution_count": 13,
   "id": "71e769e0",
   "metadata": {},
   "outputs": [],
   "source": [
    "import cv2\n",
    "img=cv2.imread('threshold.png',cv2.IMREAD_GRAYSCALE)\n",
    "\n",
    "ret,binary1=cv2.threshold(img, 0, 255, cv2.THRESH_BINARY)     #진한 회색, 밝은 회색, 흰색\n",
    "ret,binary2=cv2.threshold(img, 127, 255, cv2.THRESH_BINARY)   #밝은 회색, 흰색\n",
    "ret,binary3=cv2.threshold(img, 195, 255, cv2.THRESH_BINARY)   #흰색\n",
    "\n",
    "cv2.imshow('img',img)\n",
    "cv2.imshow('binary1',binary1)\n",
    "cv2.imshow('binary2',binary2)\n",
    "cv2.imshow('binary3',binary3)\n",
    "cv2.waitKey(0)\n",
    "cv2.destroyAllWindows()"
   ]
  },
  {
   "cell_type": "markdown",
   "id": "d768b69d",
   "metadata": {},
   "source": [
    "## Adaptive Threshold\n",
    "이미지를 작은 영역으로 나누어서 임계치 적용"
   ]
  },
  {
   "cell_type": "code",
   "execution_count": 4,
   "id": "f8890742",
   "metadata": {},
   "outputs": [],
   "source": [
    "import cv2\n",
    "\n",
    "def empty(pos):\n",
    "    #print(pos)\n",
    "    pass\n",
    "\n",
    "img=cv2.imread('book.jpg',cv2.IMREAD_GRAYSCALE)\n",
    "\n",
    "name='Trackbar'\n",
    "cv2.namedWindow(name)\n",
    "\n",
    "cv2.createTrackbar('block_size',name,25,100,empty) #홀수만 가능, 1보다는 큰값\n",
    "cv2.createTrackbar('c',name,3,10,empty) #일반적으로 양수의 값을 사용\n",
    "\n",
    "\n",
    "while True:\n",
    "    block_size=cv2.getTrackbarPos('block_size',name)\n",
    "    # bar의 이름, 창의 이름\n",
    "    c=cv2.getTrackbarPos('c',name)\n",
    "    \n",
    "    if block_size<=1: #1이하면 3으로 변경하고\n",
    "        block_size=3\n",
    "    if block_size %2==0: #짝수면 홀수로 변경\n",
    "        block_size+=1\n",
    "    \n",
    "    binary=cv2.adaptiveThreshold(img, 255, cv2.ADAPTIVE_THRESH_MEAN_C, cv2.THRESH_BINARY,block_size,c)\n",
    "    \n",
    "    cv2.imshow(name,binary)\n",
    "    if cv2.waitKey(1)==ord('q'):\n",
    "        break\n",
    "cv2.destroyAllWindows()"
   ]
  },
  {
   "cell_type": "markdown",
   "id": "237428a7",
   "metadata": {},
   "source": [
    "## 오츠 알고리즘\n",
    "Bimodal Image에 사용하기 적합(최적의 임계치를 자동으로 발견)"
   ]
  },
  {
   "cell_type": "code",
   "execution_count": 6,
   "id": "c04c6162",
   "metadata": {},
   "outputs": [
    {
     "name": "stdout",
     "output_type": "stream",
     "text": [
      "otus threshold 100.0\n"
     ]
    }
   ],
   "source": [
    "import cv2\n",
    "img=cv2.imread('book.jpg',cv2.IMREAD_GRAYSCALE)\n",
    "\n",
    "ret,binary=cv2.threshold(img, 127, 255, cv2.THRESH_BINARY)\n",
    "ret,otsu=cv2.threshold(img, -1, 255, cv2.THRESH_BINARY | cv2.THRESH_OTSU)\n",
    "print('otus threshold',ret)\n",
    "\n",
    "cv2.imshow('img',img)\n",
    "cv2.imshow('binary',binary)\n",
    "cv2.imshow('otus',binary)\n",
    "cv2.waitKey(0)\n",
    "cv2.destroyAllWindows()"
   ]
  }
 ],
 "metadata": {
  "kernelspec": {
   "display_name": "Python 3 (ipykernel)",
   "language": "python",
   "name": "python3"
  },
  "language_info": {
   "codemirror_mode": {
    "name": "ipython",
    "version": 3
   },
   "file_extension": ".py",
   "mimetype": "text/x-python",
   "name": "python",
   "nbconvert_exporter": "python",
   "pygments_lexer": "ipython3",
   "version": "3.9.7"
  }
 },
 "nbformat": 4,
 "nbformat_minor": 5
}
