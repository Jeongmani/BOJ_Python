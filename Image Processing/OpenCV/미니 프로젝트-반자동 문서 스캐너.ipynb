{
 "cells": [
  {
   "cell_type": "markdown",
   "id": "0100002d",
   "metadata": {},
   "source": [
    "## 미니 프로젝트 : 반자동 문서 스캐너"
   ]
  },
  {
   "cell_type": "markdown",
   "id": "35c2200a",
   "metadata": {},
   "source": [
    "### 마우스 이벤트 등록\n",
    "#### 코드 정리\n",
    "\n",
    "##### cv2.EVENT_LBUTTONDOWN    : 마우스 왼쪽 버튼 누르기\n",
    "##### cv2.EVENT_LBUTTONUP      : 마우스 왼쪽 버튼 때기\n",
    "##### cv2.EVENT_LBUTTONDBLCLK  : 마우스 왼쪽 버튼 더블클릭\n",
    "##### cv2.EVENT_MOUSEMOVE      : 마우스 이동\n",
    "오른쪽 버튼도 동일 ex) cv2.EVENT_LBUTTONDOWN\n"
   ]
  },
  {
   "cell_type": "code",
   "execution_count": 6,
   "id": "8c27d481",
   "metadata": {},
   "outputs": [],
   "source": [
    "import cv2\n",
    "\n",
    "def mouse_handler(event,x,y,flags,param):\n",
    "    if event == cv2.EVENT_LBUTTONDOWN: #마우스 왼쪽 버튼 누름\n",
    "        print('왼쪽 버튼 Down')\n",
    "        print((x,y))\n",
    "    elif event == cv2.EVENT_LBUTTONUP: #마우스 왼쪽 버튼 땜\n",
    "        print('왼쪽 버튼 Up')\n",
    "        print((x,y))\n",
    "    elif event == cv2.EVENT_LBUTTONDBLCLK: #마우스 왼쪽 버튼 더블 클릭\n",
    "        print('왼쪽 버튼 더블 클릭')\n",
    "    elif event == cv2.EVENT_MOUSEMOVE: #마우스 이동\n",
    "        print('마우스 이동')\n",
    "    elif event == cv2.EVENT_RBUTTONDOWN:\n",
    "        print('오른쪽 버튼 다운')\n",
    "        \n",
    "        \n",
    "img= cv2.imread('poker.jpg')\n",
    "cv2.namedWindow('img') #img라는 이름의 윈도우를 먼저 만들어두는 것, 여기에 마우스 이벤트를 처리하기 위한 핸들러 적용\n",
    "cv2.setMouseCallback('img',mouse_handler)\n",
    "cv2.imshow('img',img)\n",
    "cv2.waitKey(0)\n",
    "cv2.destroyAllWindows()"
   ]
  },
  {
   "cell_type": "markdown",
   "id": "18f3a10f",
   "metadata": {},
   "source": [
    "### 프로젝트"
   ]
  },
  {
   "cell_type": "code",
   "execution_count": 1,
   "id": "b666a861",
   "metadata": {},
   "outputs": [],
   "source": [
    "import cv2\n",
    "import numpy as np\n",
    "\n",
    "point_list=[]\n",
    "src_img = cv2.imread('poker.jpg')\n",
    "\n",
    "color=(255,0,255) #핑크\n",
    "thickness=3\n",
    "drawing=False # 선을 그릴지 여부\n",
    "\n",
    "def mouse_handler(event,x,y,flags,param):\n",
    "    global drawing\n",
    "    dst_img=src_img.copy()\n",
    "    if event == cv2.EVENT_LBUTTONDOWN: #마우스 왼쪽 버튼 누름\n",
    "        drawing=True #선을 그리기 시작\n",
    "        point_list.append((x,y))\n",
    "    \n",
    "    if drawing:\n",
    "        prev_point= None #직선의 시작점\n",
    "        for point in point_list:\n",
    "            cv2.circle(dst_img, point, 10, color, cv2.FILLED)\n",
    "            if prev_point:\n",
    "                cv2.line(dst_img , prev_point, point, color, thickness, cv2.LINE_AA)\n",
    "            prev_point=point\n",
    "        next_point =(x,y)\n",
    "        if len(point_list)==4:\n",
    "            show_result() #결과 출력 함수\n",
    "            next_point=point_list[0] # 첫번째 클릭한 지점\n",
    "        cv2.line(dst_img , prev_point, next_point, color, thickness, cv2.LINE_AA)\n",
    "                \n",
    "\n",
    "    cv2.imshow('img',dst_img)\n",
    "\n",
    "def show_result():\n",
    "    width, height = 530,710\n",
    "    src= np.float32(point_list)\n",
    "    dst=np.array([[0,0],[width,0],[width,height],[0,height]],dtype=np.float32)\n",
    "    matrix=cv2.getPerspectiveTransform(src,dst)\n",
    "    result=cv2.warpPerspective(src_img,matrix,(width,height))\n",
    "    cv2.imshow('result',result)\n",
    "    \n",
    "    \n",
    "    \n",
    "cv2.namedWindow('img') #img라는 이름의 윈도우를 먼저 만들어두는 것, 여기에 마우스 이벤트를 처리하기 위한 핸들러 적용\n",
    "cv2.setMouseCallback('img',mouse_handler)\n",
    "cv2.imshow('img',src_img)\n",
    "cv2.waitKey(0)\n",
    "cv2.destroyAllWindows()"
   ]
  }
 ],
 "metadata": {
  "kernelspec": {
   "display_name": "Python 3 (ipykernel)",
   "language": "python",
   "name": "python3"
  },
  "language_info": {
   "codemirror_mode": {
    "name": "ipython",
    "version": 3
   },
   "file_extension": ".py",
   "mimetype": "text/x-python",
   "name": "python",
   "nbconvert_exporter": "python",
   "pygments_lexer": "ipython3",
   "version": "3.9.7"
  }
 },
 "nbformat": 4,
 "nbformat_minor": 5
}
