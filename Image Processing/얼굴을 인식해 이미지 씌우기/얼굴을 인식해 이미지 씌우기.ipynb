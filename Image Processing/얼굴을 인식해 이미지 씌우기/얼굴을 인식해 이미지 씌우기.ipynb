{
 "cells": [
  {
   "cell_type": "markdown",
   "id": "7ce35421",
   "metadata": {},
   "source": [
    "### 동영상에서 얼굴 인식"
   ]
  },
  {
   "cell_type": "code",
   "execution_count": 1,
   "id": "c755b18a",
   "metadata": {},
   "outputs": [],
   "source": [
    "import cv2\n",
    "import mediapipe as mp\n",
    "\n",
    "#얼굴을 찾고, 찾은 얼굴에 표시를 해주기 위한 변수 정의\n",
    "mp_face_detection = mp.solutions.face_detection #얼굴 검출을 위한 face_detection 모듈을 사용\n",
    "mp_drawing = mp.solutions.drawing_utils #얼굴의 특징을 그리기 위한 drawing_utils 모듈을 사용\n",
    "\n",
    "#동영상 파일 열기\n",
    "cap = cv2.VideoCapture('face.mp4')\n",
    "\n",
    "#이미지 불러오기\n",
    "m_left_eye=cv2.imread('left_eye.jpg')\n",
    "m_right_eye=cv2.imread('right_eye.png')\n",
    "m_nose_tip=cv2.imread('nose_tip.png')\n",
    "\n",
    "with mp_face_detection.FaceDetection(model_selection=0, min_detection_confidence=0.3) as face_detection:\n",
    "    while cap.isOpened():\n",
    "        success, image = cap.read()\n",
    "        if not success:\n",
    "            break\n",
    "        \n",
    "        #이미지 성능 향상 (mediapipe에서 제공)\n",
    "        image.flags.writeable = False\n",
    "        image = cv2.cvtColor(image, cv2.COLOR_BGR2RGB)\n",
    "        results = face_detection.process(image)\n",
    "\n",
    "\n",
    "        image.flags.writeable = True\n",
    "        image = cv2.cvtColor(image, cv2.COLOR_RGB2BGR)\n",
    "        \n",
    "        if results.detections:\n",
    "            #6개의 특징: 오른쪽 눈, 왼쪽 눈, 코 끝부분, 입 중심, 오른쪽 귀, 왼쪽 귀(귀구슬점, 이주)\n",
    "            for detection in results.detections:\n",
    "                #mp_drawing.draw_detection(image, detection)\n",
    "                #print(detection)\n",
    "                # 특정 위치 가져오기\n",
    "                keypoints=detection.location_data.relative_keypoints\n",
    "                right_eye=keypoints[0] #오른쪽 눈\n",
    "                left_eye=keypoints[1] #왼쪽 눈\n",
    "                nose_tip=keypoints[2] #코 끝부분\n",
    "\n",
    "                \n",
    "                h,w,_ = image.shape #height, width, channel :이미지로부터 세로, 가로 크기 가져옴\n",
    "                right_eye = (int(right_eye.x*w), int(right_eye.y*h)) #이미지 내에서 실제 좌표(x,y)\n",
    "                left_eye = (int(left_eye.x*w), int(left_eye.y*h)) #이미지 내에서 실제 좌표(x,y)\n",
    "                nose_tip=(int(nose_tip.x*w), int(nose_tip.y*h))\n",
    "                \n",
    "                \n",
    "                # 양 눈에 동그라미 그리기\n",
    "                #cv2.circle(image,right_eye,50,(255,0,0),10,cv2.LINE_AA)\n",
    "                #cv2.circle(image,left_eye,50,(0,255,0),10,cv2.LINE_AA)\n",
    "                #cv2.circle(image,nose_tip,50,(0,0,255),10,cv2.LINE_AA)\n",
    "                \n",
    "                #각 특징에 이미지 넣기\n",
    "                \n",
    "                image[right_eye[1]-50:right_eye[1]+50,right_eye[0]-50:right_eye[0]+50]=m_right_eye\n",
    "                image[left_eye[1]-50:left_eye[1]+50,left_eye[0]-50:left_eye[0]+50]=m_left_eye\n",
    "                image[nose_tip[1]-50:nose_tip[1]+50,nose_tip[0]-100:nose_tip[0]+100]=m_nose_tip\n",
    "                \n",
    "        cv2.imshow('MediaPipe Face Detection',cv2.resize(image,None,fx=0.5,fy=0.5))\n",
    "        \n",
    "        if cv2.waitKey(1)==ord('q'):\n",
    "            break\n",
    "\n",
    "cap.release()\n",
    "cv2.destroyAllWindows()"
   ]
  },
  {
   "cell_type": "markdown",
   "id": "9e62684f",
   "metadata": {},
   "source": [
    "## 문제점\n",
    "> 이미지를 씌우려고 하는 위치가 화면에서 나가면 팅기는 문제 발견 (2022-3-8)\n",
    "- friend.mp4 실행시 버그 발생"
   ]
  }
 ],
 "metadata": {
  "kernelspec": {
   "display_name": "Python 3 (ipykernel)",
   "language": "python",
   "name": "python3"
  },
  "language_info": {
   "codemirror_mode": {
    "name": "ipython",
    "version": 3
   },
   "file_extension": ".py",
   "mimetype": "text/x-python",
   "name": "python",
   "nbconvert_exporter": "python",
   "pygments_lexer": "ipython3",
   "version": "3.9.7"
  }
 },
 "nbformat": 4,
 "nbformat_minor": 5
}
